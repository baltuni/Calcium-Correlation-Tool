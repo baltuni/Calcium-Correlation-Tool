{
 "cells": [
  {
   "cell_type": "code",
   "execution_count": 1,
   "metadata": {},
   "outputs": [],
   "source": [
    "from cellpose import models\n",
    "from tqdm import tqdm\n",
    "import os\n",
    "import tifffile\n",
    "import numpy as np\n",
    "\n",
    "python_test = __import__('0_python_test')"
   ]
  },
  {
   "cell_type": "code",
   "execution_count": null,
   "metadata": {},
   "outputs": [],
   "source": [
    "raw_path = 'D:\\\\Bestun\\\\raw_data\\\\ModelTest\\\\'\n",
    "model_path = 'D:\\\\Bestun\\\\training_images_for_cellpose\\\\cellpose_train\\\\models\\\\cellpose_residual_on_style_on_concatenation_off_cellpose_train_2025_02_10_09_52_21.944827'\n",
    "save_path = 'D:\\\\Bestun\\\\masks_tracked\\\\ModelTest\\\\'\n",
    "\n",
    "images = ['231224_cluster_1h_2.tif']\n",
    "\n",
    "occurrence_limit = 80       # Percentage of images a cell has to be in order to be accounted for\n",
    "\n",
    "'''\n",
    "dist_limit:\n",
    "    The longest distance, in pixels, that the center of mass is allowed\n",
    "    to move from one image to the next for it to still count as the same\n",
    "    cell. Make bigger if cells are moving a lot.\n",
    "\n",
    "backtrack_limit:\n",
    "    The maximum number of images back that the algorithm will search\n",
    "    through to find a center of mass within the distance limit (dist_limit).\n",
    "    Make smaller if cells are moving a lot.\n",
    "    Can be adjusted in the get_tracked_masks function in 0_python_test.py\n",
    "'''\n",
    "\n",
    "#TODO: evaluate the effect of different settings for diameter and dist_limit \n",
    "#TODO: evaluate the effect of changing flow_threshold\n",
    "#TODO: continue looking at the tracking function to make it avoid putting the same label on several cells\n",
    "\n",
    "T = 5                       # Period between images (seconds)\n",
    "\n",
    "''' If generating new masks '''\n",
    "diam = 30                   # Standard setting when trained\n",
    "dist_limit = diam / 2       # Slightly less than half average diameter\n",
    "#backtrack_limit = 15"
   ]
  },
  {
   "cell_type": "code",
   "execution_count": 3,
   "metadata": {},
   "outputs": [],
   "source": [
    "def track_Y(X, model, diam=diam):\n",
    "    \"\"\" Optimized function to track Y using the given model. \"\"\"\n",
    "    # Remove empty images\n",
    "    crop_idx = np.argmax(np.mean(X, axis=(1,2)) == 0)\n",
    "    X = X[:crop_idx] if crop_idx > 0 else X\n",
    "\n",
    "    # Predict labels on model\n",
    "    Y = [model.eval(np.squeeze(i), diameter=diam, channels=[0,0], \n",
    "                    flow_threshold=0.4, do_3D=False)[0] for i in tqdm(np.split(X, X.shape[0]), \n",
    "                                                                     desc='Segmenting timeseries', unit=' frames')]\n",
    "    \n",
    "    print('\\nTracking initiated...')\n",
    "    return python_test.get_tracked_masks(masks=np.array(Y))"
   ]
  },
  {
   "cell_type": "code",
   "execution_count": 4,
   "metadata": {},
   "outputs": [
    {
     "name": "stdout",
     "output_type": "stream",
     "text": [
      "Image name: 231224_cluster_1h_2.tif\n"
     ]
    },
    {
     "ename": "FileNotFoundError",
     "evalue": "[WinError 3] The system cannot find the path specified: '\\\\storage3.ad.scilifelab.se\\\\alm\\\\BrismarGroup\\\\Bestun\\\\Bestun\\\\masks_tracked\\\\ModelTest\\\\'",
     "output_type": "error",
     "traceback": [
      "\u001b[1;31m---------------------------------------------------------------------------\u001b[0m",
      "\u001b[1;31mFileNotFoundError\u001b[0m                         Traceback (most recent call last)",
      "Cell \u001b[1;32mIn[4], line 3\u001b[0m\n\u001b[0;32m      1\u001b[0m \u001b[38;5;28;01mfor\u001b[39;00m image \u001b[38;5;129;01min\u001b[39;00m images:\n\u001b[0;32m      2\u001b[0m     \u001b[38;5;28mprint\u001b[39m(\u001b[38;5;124mf\u001b[39m\u001b[38;5;124m'\u001b[39m\u001b[38;5;124mImage name: \u001b[39m\u001b[38;5;132;01m{\u001b[39;00mimage\u001b[38;5;132;01m}\u001b[39;00m\u001b[38;5;124m'\u001b[39m)\n\u001b[1;32m----> 3\u001b[0m     \u001b[38;5;28;01mif\u001b[39;00m image \u001b[38;5;129;01min\u001b[39;00m \u001b[43mos\u001b[49m\u001b[38;5;241;43m.\u001b[39;49m\u001b[43mlistdir\u001b[49m\u001b[43m(\u001b[49m\u001b[43msave_path\u001b[49m\u001b[43m)\u001b[49m:\n\u001b[0;32m      4\u001b[0m         \u001b[38;5;28mprint\u001b[39m(\u001b[38;5;124mf\u001b[39m\u001b[38;5;124m'\u001b[39m\u001b[38;5;124mSegmentation for \u001b[39m\u001b[38;5;132;01m{\u001b[39;00mimage\u001b[38;5;132;01m}\u001b[39;00m\u001b[38;5;124m already exists.\u001b[39m\u001b[38;5;124m'\u001b[39m)\n\u001b[0;32m      5\u001b[0m         \u001b[38;5;28;01mcontinue\u001b[39;00m\n",
      "\u001b[1;31mFileNotFoundError\u001b[0m: [WinError 3] The system cannot find the path specified: '\\\\storage3.ad.scilifelab.se\\\\alm\\\\BrismarGroup\\\\Bestun\\\\Bestun\\\\masks_tracked\\\\ModelTest\\\\'"
     ]
    }
   ],
   "source": [
    "for image in images:\n",
    "    print(f'Image name: {image}')\n",
    "    if image in os.listdir(save_path):\n",
    "        print(f'Segmentation for {image} already exists.')\n",
    "        continue\n",
    "    \n",
    "    X = tifffile.imread(raw_path + image)\n",
    "    \n",
    "    # Load model once outside the loop if possible\n",
    "    model = models.CellposeModel(gpu=True, pretrained_model=model_path)\n",
    "    \n",
    "    Y = track_Y(X, model)\n",
    "    tifffile.imwrite(save_path + image, Y, imagej=True, metadata={'axes': 'TYX'})\n",
    "    print(f'\\nMasks saved.\\nMasks processing complete for {image}')\n"
   ]
  }
 ],
 "metadata": {
  "kernelspec": {
   "display_name": "cellpose",
   "language": "python",
   "name": "python3"
  },
  "language_info": {
   "codemirror_mode": {
    "name": "ipython",
    "version": 3
   },
   "file_extension": ".py",
   "mimetype": "text/x-python",
   "name": "python",
   "nbconvert_exporter": "python",
   "pygments_lexer": "ipython3",
   "version": "3.8.18"
  }
 },
 "nbformat": 4,
 "nbformat_minor": 2
}

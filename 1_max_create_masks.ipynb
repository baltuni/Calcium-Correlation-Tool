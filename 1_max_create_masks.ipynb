{
 "cells": [
  {
   "cell_type": "code",
   "execution_count": 1,
   "metadata": {},
   "outputs": [],
   "source": [
    "import tifffile\n",
    "python_test = __import__('0_python_test')\n",
    "import pandas as pd\n",
    "import napari\n",
    "import numpy as np\n",
    "import skimage\n",
    "from scipy import ndimage\n",
    "from cellpose import models\n",
    "import matplotlib.pyplot as plt\n",
    "import os\n",
    "from tqdm import tqdm"
   ]
  },
  {
   "cell_type": "code",
   "execution_count": 2,
   "metadata": {},
   "outputs": [],
   "source": [
    "raw_path = 'D:\\\\Bestun\\\\raw_data\\\\ModelTest\\\\'\n",
    "#images = os.listdir(raw_path)\n",
    "model_path = 'D:\\\\Bestun\\\\modelTest\\\\cellpose_train\\\\models\\\\cellpose_residual_on_style_on_concatenation_off_cellpose_train_2025_02_06_16_22_53.615012'\n",
    "save_path = 'D:\\\\Bestun\\\\masks_tracked\\\\ModelTest\\\\'\n",
    "\n",
    "images = ['231224_cluster_1h_2.tif']\n",
    "\n",
    "occurrence_limit = 80   # Percentage of images a cell has to be in order to be accounted for\n",
    "\n",
    "#dist_limit: the longest distance, in pixels, that the center of mass is allowed\n",
    "#to move from one image to the next for it to still count as the same\n",
    "#cell. Make bigger if cells are moving a lot.\n",
    "\n",
    "#backtrack_limit: the maximum number of images back that the algorithm will search\n",
    "#through to find a center of mass within the distance limit\n",
    "#(dist_limit). Make smaller if cells are moving a lot. Can be adjusted in the get_tracked_masks function in 0_python_test.py\n",
    "\n",
    "#TODO: evaluate the effect of different settings for diameter and dist_limit \n",
    "#TODO: evaluate the effect of changing flow_threshold\n",
    "#TODO: continue looking at the tracking function to make it avoid putting the same label on several cells\n",
    "\n",
    "T = 5 # Period between images (seconds)\n",
    "# If generating new masks\n",
    "diam = 30   # standard setting when trained\n",
    "dist_limit = diam / 2    # Slightly less than half average diameter\n",
    "#backtrack_limit = 15"
   ]
  },
  {
   "cell_type": "code",
   "execution_count": 3,
   "metadata": {},
   "outputs": [],
   "source": [
    "def track_Y(X, model, diam=diam):\n",
    "    \n",
    "    #Original flow_threshold = 0.4\n",
    "    \n",
    "    # remove empty images\n",
    "    mean = np.mean(X, axis=(1,2))\n",
    "\n",
    "    crop = list(np.where(mean == 0))\n",
    "    if len(crop[0])>0:\n",
    "        X=X[:crop[0][0],:,:]\n",
    "    else:\n",
    "        X = X\n",
    "\n",
    "    X = [np.squeeze(i) for i in np.split(X, X.shape[0])]\n",
    "    # predict labels on model\n",
    "    Y = []\n",
    "    for x in tqdm(X, desc = 'Segmenting timeseries', unit = 't'):\n",
    "        \n",
    "        y, flows, styles = model.eval(x,\n",
    "                                   diameter=diam, channels=[0,0],\n",
    "                                      flow_threshold=0.4, do_3D=False)\n",
    "        Y.append(y)\n",
    "    print('Track masks over time')\n",
    "    Y = python_test.get_tracked_masks(masks = np.array(Y))\n",
    "\n",
    "    return Y"
   ]
  },
  {
   "cell_type": "code",
   "execution_count": null,
   "metadata": {},
   "outputs": [
    {
     "name": "stdout",
     "output_type": "stream",
     "text": [
      "Image name: 231224_cluster_1h_2.tif\n"
     ]
    },
    {
     "name": "stderr",
     "output_type": "stream",
     "text": [
      "Segmenting timeseries: 100%|██████████| 721/721 [03:51<00:00,  3.11t/s]"
     ]
    },
    {
     "name": "stdout",
     "output_type": "stream",
     "text": [
      "Track masks over time\n",
      "Input masks shape: (721, 512, 512)\n",
      "Unique labels in the first frame: [ 0  1  2  3  4  5  6  7  8  9 10 11 12 13 14 15 16 17 18 19 20 21 22 23\n",
      " 24 25 26 27 28 29 30 31 32 33 34 35 36 37 38 39 40 41 42 43 44 45 46 47\n",
      " 48 49 50 51 52 53 54 55 56 57 58 59 60 61]\n"
     ]
    },
    {
     "name": "stderr",
     "output_type": "stream",
     "text": [
      "\n"
     ]
    }
   ],
   "source": [
    "for i in range(len(images)):\n",
    "    print('Image name: ' + images[i])\n",
    "    if images[i] in os.listdir(save_path):\n",
    "        print('Segmentation for ' + images[i] + ' already exists.')\n",
    "        continue\n",
    "    else:\n",
    "        X = tifffile.imread(raw_path + images[i])\n",
    "        X = X[:,:,:]\n",
    "        # load model\n",
    "        model = models.CellposeModel(gpu = True, pretrained_model=model_path)\n",
    "        Y = track_Y(X, model)\n",
    "        tifffile.imwrite(save_path + images[i], Y, imagej=True, metadata={'axes':'TYX'})\n",
    "        print('Masks saved.')\n",
    "\n",
    "        print('Masks processing complete for', images[i])"
   ]
  }
 ],
 "metadata": {
  "kernelspec": {
   "display_name": "cellpose",
   "language": "python",
   "name": "python3"
  },
  "language_info": {
   "codemirror_mode": {
    "name": "ipython",
    "version": 3
   },
   "file_extension": ".py",
   "mimetype": "text/x-python",
   "name": "python",
   "nbconvert_exporter": "python",
   "pygments_lexer": "ipython3",
   "version": "3.8.16"
  }
 },
 "nbformat": 4,
 "nbformat_minor": 2
}
